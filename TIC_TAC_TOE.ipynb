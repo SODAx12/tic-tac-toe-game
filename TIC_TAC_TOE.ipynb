{
  "nbformat": 4,
  "nbformat_minor": 0,
  "metadata": {
    "colab": {
      "name": "TIC TAC TOE.ipynb",
      "provenance": [],
      "collapsed_sections": [],
      "authorship_tag": "ABX9TyO4wKAUmbtFduJgUnmSwbOk",
      "include_colab_link": true
    },
    "kernelspec": {
      "name": "python3",
      "display_name": "Python 3"
    },
    "language_info": {
      "name": "python"
    }
  },
  "cells": [
    {
      "cell_type": "markdown",
      "metadata": {
        "id": "view-in-github",
        "colab_type": "text"
      },
      "source": [
        "<a href=\"https://colab.research.google.com/github/SODAx12/tic-tac-toe-game/blob/main/TIC_TAC_TOE.ipynb\" target=\"_parent\"><img src=\"https://colab.research.google.com/assets/colab-badge.svg\" alt=\"Open In Colab\"/></a>"
      ]
    },
    {
      "cell_type": "markdown",
      "source": [
        "Tic Tac Toe Game\n",
        "> Players: Alice (X) and Bob (O)\n",
        "\n"
      ],
      "metadata": {
        "id": "c_lZ5a-sE86G"
      }
    },
    {
      "cell_type": "markdown",
      "source": [
        "function to show the board"
      ],
      "metadata": {
        "id": "sdPPRDLCFC6d"
      }
    },
    {
      "cell_type": "code",
      "source": [
        "def boardshow(alice,bob):\n",
        "  list=[]\n",
        "  for i in range (9):\n",
        "    if(alice[i]==1):\n",
        "       list.append('X')\n",
        "    elif (bob[i]==1):\n",
        "      list.append('O')\n",
        "    else:\n",
        "      list.append(i)\n",
        "  for i in range (0,9,3):\n",
        "    print(f\"{list[i]} | {list[i+1]} | {list[i+2]}\")\n",
        "    print(f\"---|---|---\")"
      ],
      "metadata": {
        "id": "49VFk1ojFChn"
      },
      "execution_count": null,
      "outputs": []
    },
    {
      "cell_type": "markdown",
      "source": [
        "function to show winner\n",
        "\n",
        "> 1 represents ALICE won\n",
        "\n",
        "> 0 represnts BOB won\n",
        "\n",
        "> -1: match to be continued\n",
        "\n",
        "\n",
        "\n",
        "\n",
        "\n"
      ],
      "metadata": {
        "id": "Lnm5ltIOHf4T"
      }
    },
    {
      "cell_type": "code",
      "source": [
        "def winner(alice,bob):\n",
        "  win=[[0,1,2],[3,4,5],[6,7,8],[0,3,6],[1,4,7],[2,5,8],[0,4,8],[2,4,6]]\n",
        "  for i in win:\n",
        "    if(alice[i[0]]+alice[i[1]]+alice[i[2]]==3):\n",
        "      print(\"ALICE is the winner\")\n",
        "      return 1; \n",
        "    if(bob[i[0]]+bob[i[1]]+bob[i[2]]==3):\n",
        "      print(\"BOB is the winner\")\n",
        "      return 0;\n",
        "  return -1;"
      ],
      "metadata": {
        "id": "ZUHqDD14E8ha"
      },
      "execution_count": null,
      "outputs": []
    },
    {
      "cell_type": "markdown",
      "source": [
        "*   turn=1 for ALICE\n",
        "*   turn=1 for BOB\n",
        "> ALICE starts first\n",
        "\n",
        "\n",
        "\n",
        "\n",
        "\n",
        "\n"
      ],
      "metadata": {
        "id": "QhHKmn9YK9qB"
      }
    },
    {
      "cell_type": "code",
      "execution_count": null,
      "metadata": {
        "colab": {
          "base_uri": "https://localhost:8080/"
        },
        "id": "eOl49C_3E6TP",
        "outputId": "8f520882-b4e7-4ba2-8c2f-db177bf2f8af"
      },
      "outputs": [
        {
          "output_type": "stream",
          "name": "stdout",
          "text": [
            "WELCOME TO THE GAME\n",
            "0 | 1 | 2\n",
            "---|---|---\n",
            "3 | 4 | 5\n",
            "---|---|---\n",
            "6 | 7 | 8\n",
            "---|---|---\n",
            "ALICE's turn\n",
            "Please enter the square number 0\n",
            "X | 1 | 2\n",
            "---|---|---\n",
            "3 | 4 | 5\n",
            "---|---|---\n",
            "6 | 7 | 8\n",
            "---|---|---\n",
            "BOB's turn\n",
            "Please enter the square number 1\n",
            "X | O | 2\n",
            "---|---|---\n",
            "3 | 4 | 5\n",
            "---|---|---\n",
            "6 | 7 | 8\n",
            "---|---|---\n",
            "ALICE's turn\n",
            "Please enter the square number 2\n",
            "X | O | X\n",
            "---|---|---\n",
            "3 | 4 | 5\n",
            "---|---|---\n",
            "6 | 7 | 8\n",
            "---|---|---\n",
            "BOB's turn\n",
            "Please enter the square number 4\n",
            "X | O | X\n",
            "---|---|---\n",
            "3 | O | 5\n",
            "---|---|---\n",
            "6 | 7 | 8\n",
            "---|---|---\n",
            "ALICE's turn\n",
            "Please enter the square number 3\n",
            "X | O | X\n",
            "---|---|---\n",
            "X | O | 5\n",
            "---|---|---\n",
            "6 | 7 | 8\n",
            "---|---|---\n",
            "BOB's turn\n",
            "Please enter the square number 5\n",
            "X | O | X\n",
            "---|---|---\n",
            "X | O | O\n",
            "---|---|---\n",
            "6 | 7 | 8\n",
            "---|---|---\n",
            "ALICE's turn\n",
            "Please enter the square number 7\n",
            "X | O | X\n",
            "---|---|---\n",
            "X | O | O\n",
            "---|---|---\n",
            "6 | X | 8\n",
            "---|---|---\n",
            "BOB's turn\n",
            "Please enter the square number 6\n",
            "X | O | X\n",
            "---|---|---\n",
            "X | O | O\n",
            "---|---|---\n",
            "O | X | 8\n",
            "---|---|---\n",
            "ALICE's turn\n",
            "Please enter the square number 8\n",
            "DRAW MATCH!!\n"
          ]
        }
      ],
      "source": [
        "  alice=[]\n",
        "  bob=[]\n",
        "  for i in range (9):\n",
        "    alice.append(0)\n",
        "    bob.append(0)\n",
        "  turn=1 \n",
        "  count=0\n",
        "  print(\"WELCOME TO THE GAME\")\n",
        "  while(1):\n",
        "    boardshow(alice,bob)\n",
        "    if(turn):\n",
        "      print(\"ALICE's turn\")\n",
        "      val=int(input(\"Please enter the square number \"))\n",
        "      alice[val]=1;\n",
        "    else:\n",
        "      print(\"BOB's turn\")\n",
        "      val=int(input(\"Please enter the square number \"))\n",
        "      bob[val]=1;\n",
        "    w=winner(alice,bob)\n",
        "    if(w!=-1):\n",
        "      print(\"MATCH OVER!!\")\n",
        "      break\n",
        "    turn=1-turn\n",
        "    count+=1\n",
        "    if(count>=9):\n",
        "      print(\"DRAW MATCH!!\")\n",
        "      break"
      ]
    }
  ]
}